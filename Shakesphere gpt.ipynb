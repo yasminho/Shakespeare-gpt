{
 "cells": [
  {
   "cell_type": "code",
   "execution_count": 30,
   "id": "bff913a6-4a83-4a55-af0f-74305d64161f",
   "metadata": {},
   "outputs": [],
   "source": [
    "#my imports\n",
    "import pandas as pd\n",
    "#requests is a popular python libarary for making HTTP requests, such as downloading from URLs\n",
    "import requests\n",
    "import urllib.request"
   ]
  },
  {
   "cell_type": "code",
   "execution_count": 34,
   "id": "d0c428b9-1341-41b3-9b86-f4b839a9280a",
   "metadata": {},
   "outputs": [
    {
     "name": "stdout",
     "output_type": "stream",
     "text": [
      "Dataset downloaded successfully.\n"
     ]
    }
   ],
   "source": [
    "\n",
    "#got the url by open the raw version of the file in github \n",
    "url = \"https://raw.githubusercontent.com/yasminho/Shakespeare-gpt/main/input.txt?token=GHSAT0AAAAAACDEOEB7HCMDF43ROSZND5FAZF6U3OA\"\n",
    "try:\n",
    "    # Download the dataset using urllib\n",
    "    #downloads the contents from url and saves it as input.txt \n",
    "    urllib.request.urlretrieve(url, 'input.txt')\n",
    "    print(\"Dataset downloaded successfully.\")\n",
    "#if there is an exception, the code will enter the exception block \n",
    "except Exception as e:\n",
    "    print(f\"the dataset did not download: {e}\")\n",
    "\n",
    "#will enter the exception block and print the exception "
   ]
  },
  {
   "cell_type": "code",
   "execution_count": 35,
   "id": "b9ec3cd5-5a00-4a8f-9f3e-ee839194eb0b",
   "metadata": {},
   "outputs": [
    {
     "name": "stdout",
     "output_type": "stream",
     "text": [
      "1115394\n"
     ]
    }
   ],
   "source": [
    "#reading in the dataset \n",
    "#'r' means read \n",
    "#common encoding for text files \n",
    "with open('input.txt', 'r', encoding='utf-8') as f:\n",
    "    text=f.read()\n",
    "\n",
    "print(len(text))\n"
   ]
  },
  {
   "cell_type": "code",
   "execution_count": 33,
   "id": "22392cf8-7fff-4184-aeee-1650fd323f00",
   "metadata": {},
   "outputs": [
    {
     "name": "stdout",
     "output_type": "stream",
     "text": [
      "First Citizen:\n",
      "Before we proceed any further, hear me speak.\n",
      "\n",
      "All:\n",
      "Speak, speak.\n",
      "\n",
      "First Citizen:\n",
      "You are all resolved rather to die than to famish?\n",
      "\n",
      "All:\n",
      "Resolved. resolved.\n",
      "\n",
      "First Citizen:\n",
      "First, you know Caius Marcius is chief enemy to the people.\n",
      "\n",
      "All:\n",
      "We know't, we know't.\n",
      "\n",
      "First Citizen:\n",
      "Let us kill him, and we'll have corn at our own price.\n",
      "Is't a verdict?\n",
      "\n",
      "All:\n",
      "No more talking on't; let it be done: away, away!\n",
      "\n",
      "Second Citizen:\n",
      "One word, good citizens.\n",
      "\n",
      "First Citizen:\n",
      "We are accounted poor citizens, the patricians good.\n",
      "What authority surfeits on would relieve us: if they\n",
      "would yield us but the superfluity, while it were\n",
      "wholesome, we might guess they relieved us humanely;\n",
      "but they think we are too dear: the leanness that\n",
      "afflicts us, the object of our misery, is as an\n",
      "inventory to particularise their abundance; our\n",
      "sufferance is a gain to them Let us revenge this with\n",
      "our pikes, ere we become rakes: for the gods know I\n",
      "speak this in hunger for bread, not in thirst for revenge.\n",
      "\n",
      "\n"
     ]
    }
   ],
   "source": [
    "print(text[:1000])"
   ]
  },
  {
   "cell_type": "code",
   "execution_count": null,
   "id": "a34b3342-dd04-43fb-aded-15b9ea2ea41f",
   "metadata": {},
   "outputs": [],
   "source": []
  }
 ],
 "metadata": {
  "kernelspec": {
   "display_name": "Python 3 (ipykernel)",
   "language": "python",
   "name": "python3"
  },
  "language_info": {
   "codemirror_mode": {
    "name": "ipython",
    "version": 3
   },
   "file_extension": ".py",
   "mimetype": "text/x-python",
   "name": "python",
   "nbconvert_exporter": "python",
   "pygments_lexer": "ipython3",
   "version": "3.11.4"
  }
 },
 "nbformat": 4,
 "nbformat_minor": 5
}
